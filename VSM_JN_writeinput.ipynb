{
 "cells": [
  {
   "cell_type": "markdown",
   "metadata": {},
   "source": [
    "# VSM - Volcanic and Seismic source Modelling\n",
    "elisa.trasatti@ingv.it\n",
    "Elisa Trasatti - INGV\n",
    "\n",
    "**VSM - Volcanic and Seismic source Modelling** is a Python code to perform inversions of geodetic data.\n",
    "\n",
    "This is the guide to create the input file for VSM.\n",
    "Inputs are related to\n",
    "- input data\n",
    "- forward model(s)\n",
    "- inversion settings\n",
    "\n",
    "... Before to start let's decide\n",
    "- working folder\n",
    "- name of the input file to be written in that folder (and where results will be stored)\n",
    "\n",
    "If it's the very first time, check if the following requirements are satisfied by doing **WHAT**??"
   ]
  },
  {
   "cell_type": "markdown",
   "metadata": {},
   "source": [
    "## Filename\n",
    "Add full-path working folder and name of the VSM input file is being created"
   ]
  },
  {
   "cell_type": "code",
   "execution_count": 1,
   "metadata": {},
   "outputs": [],
   "source": [
    "# full-path working folder\n",
    "folder_inout = '/Volumes/Samsung_T5/WORK/LAVORI/PYTHON/TEST/test'\n",
    "filename_in = 'VSM_IPYNB.txt'"
   ]
  },
  {
   "cell_type": "markdown",
   "metadata": {},
   "source": [
    "## Input data\n",
    "Input data may be either displacements (m) or velocities (m/yr). If more than an input file is considered, of course the unit must be the same (all displacements or all velocities). For all datapoints, *East* and *North* are the coordinates (metric, preferred system is projected UTM).\n",
    "Accepted data types are\n",
    "- InSAR\n",
    "- GNSS\n",
    "- leveling\n",
    "- EDM\n",
    "- tilt\n",
    "- strain\n",
    "\n",
    "### InSAR\n",
    "This data refers to InSAR data, both single inferterograms or multi-temporal InSAR. Results are typycally in terms of cumulative displacements or annual velocities. The InSAR maps are usually made of thounsands of pixels so it is needed to downsample the dataset first. VSM uses downsampled InSAR datasets. Here are the details:\n",
    "- up to 10 datasets from different sensors or missions\n",
    "- for a single file ` sar = \"fullpath/sarfile.txt\" `\n",
    "- for multiple datasets just leave a blank between fullpath names ` sar = \"fullpath/sarfile1.txt fullpath/sarfile2.txt\" `\n",
    "- accepted formats are comma separated file (.csv), plain text (.txt), ESRI Shapefile (.shp). Ascii files may come with or without header in the first line\n",
    "- Format of columns\n",
    "       East North Data Error LOSx LOSy LOSz\n",
    "where *LOSx*, *LOSy*, *LOSz* are the x-y-z components of the versor of the Line of Sight of the sensor.\n",
    "\n",
    "### GNSS\n",
    "GNSS data are tipycally composed of mean velocity for each component of each benchmark.\n",
    "- accepted formats are comma separated files (.csv), plain text (.txt), ESRI Shapefiles (.shp). Ascii files may come with or without header in the first line\n",
    "- one row for each station\n",
    "- Format of columns\n",
    "       East North Datax Datay Dataz Errorx Errory Errorz\n",
    "where *Datax* is the x-component of the displacement or velocity. Same applies to the others and to the error associated to each component.\n",
    "\n",
    "### Leveling\n",
    "Leveling data consists of differences of the elevation of benchmarks in a given time window.\n",
    "- accepted formats are comma separated files (.csv), plain text (.txt), ESRI Shapefiles (.shp). Ascii files may come with or without header in the first line\n",
    "- Format of columns\n",
    "       East North Data Error\n",
    "where *Data* is the different of elevation in the given time period.\n",
    "\n",
    "### EDM\n",
    "EDM (Electro-optical Distance Measuring) technique measures the difference in the horizontal position between two points. Therefore, for each row the coordinates of the starting and ending point is required. The *Data* is one single value, that is the change in distance in a given time period.\n",
    "- accepted formats are comma separated files (.csv), plain text (.txt), ESRI Shapefiles (.shp). Ascii files may come with or without header in the first line\n",
    "- Format of columns\n",
    "       East1 North1 East2 North2 Data Error\n",
    "\n",
    "### Tilt\n",
    "Tilt is a measure of the displacement-gradient. Tilt is the inclination to the vertical along a horizontal direction. The horizontal derivatives of the vertical deformation correspond to the East and North components of tilt. Therefore, each row contains tilt data along x and y, and the associated error. If the tiltmeter is not oriented along East or North, data should be projected accordingly. Tilt is non-dimensional and the unit for VSM is microradians (ppm).\n",
    "- accepted formats are comma separated files (.csv), plain text (.txt), ESRI Shapefiles (.shp). Ascii files may come with or without header in the first line\n",
    "- Format of columns\n",
    "       East North Datax Datay Errorx Errory\n",
    "\n",
    "### Strain\n",
    "Strain is a measure of the displacement-gradient. The volumetric strain is the unit change in volume, i.e. it combines the change of the displacement in the three components. Strain is non-dimensional and the unit for VSM is microstrains (ppm).\n",
    "- accepted formats are comma separated files (.csv), plain text (.txt), ESRI Shapefiles (.shp). Ascii files may come with or without header in the first line\n",
    "- Format of columns\n",
    "       East North Data Error\n"
   ]
  },
  {
   "cell_type": "code",
   "execution_count": 2,
   "metadata": {},
   "outputs": [],
   "source": [
    "#Add the input files. By default all file names are 'None'. Set to 'None those unused'\n",
    "\n",
    "# SAR filename(s)\n",
    "sar_file = '/Volumes/Samsung_T5/WORK/LAVORI/PYTHON/DATA/CF_2011_13/obs_sar1.txt /Volumes/Samsung_T5/WORK/LAVORI/PYTHON/DATA/CF_2011_13/obs_sar2.txt'\n",
    "#GNSS filename\n",
    "gps_file = '/Volumes/Samsung_T5/WORK/LAVORI/PYTHON/DATA/CF_2011_13/obs_gps.txt'\n",
    "# leveling filename\n",
    "lev_file = 'None'\n",
    "# EDM filename\n",
    "edm_file = 'None'\n",
    "#tilt filename\n",
    "tlt_file = 'None'\n",
    "# strain filename\n",
    "srn_file = 'None'"
   ]
  },
  {
   "cell_type": "markdown",
   "metadata": {},
   "source": [
    "### Weights\n",
    "Due to the possibility to combine different datasets, it is needed to define their weights in the inversion. Weights can be arbitrary. SAR data have a unique weight even if it can be composed of more than one dataset.\n"
   ]
  },
  {
   "cell_type": "code",
   "execution_count": 3,
   "metadata": {},
   "outputs": [],
   "source": [
    "# SAR weight\n",
    "sar_weight = 1.\n",
    "# GNSS weight\n",
    "gps_weight = 1.\n",
    "# leveling weight\n",
    "lev_weight = 0.\n",
    "# EDM weight\n",
    "edm_weight = 0.\n",
    "# tilt weight\n",
    "tlt_weight = 0.\n",
    "# strain weight\n",
    "srn_weight = 0."
   ]
  },
  {
   "cell_type": "markdown",
   "metadata": {},
   "source": [
    "## Forward model\n",
    "VSM accepts the most common analytical forward models usually employed for geodetic data modelling. They can be also combined to up to 10 different forward models whose parameters are constrained by the VSM inversion.\n",
    "Models are\n",
    "- Mogi Point Source (Mogi, 1958)\n",
    "- Mogi Finite Volume (Mc Tigue, 1987)\n",
    "- Penny-shaped crack (Fialko et al., 2001)\n",
    "- Spheroid (Yang et al., 1988)\n",
    "- Ellipsoid (Davis, 1986)\n",
    "- Fault or Dyke (Okada, 1985)\n",
    "\n",
    "Each model is characterized by specific parameters, whose range for the search should be determined. Coordinates and dimensions are in meters while intensity parameters are in accordance with the data employed. E.g., if data are displacements (meters), the volume variation is in m$^3$ while if ground velocities (m/yr) are used as input data, they lead to volume variation rate m$^3$/yr). Same applies to overpressure for pressurized sources and amount of slip for the fault model.\n",
    "\n",
    "### Mogi Point Source\n",
    "**Model 0** The Mogi (1958) model represents an isotropic point source. Parameters:\n",
    "- East coordinate of the source center\n",
    "- North coordinate of the source center\n",
    "- Depth of the source source center\n",
    "- Volume variation\n",
    "\n",
    "*Note*: the ` depth ` is positive.\n",
    "\n",
    "### Mogi Finite Volume\n",
    "**Model 1** The Mc Tigue (1987) model is an evolution of the Mogi model and represents a spherical source with finite volume. Parameters:\n",
    "- East coordinate of the source center\n",
    "- North coordinate of the source center\n",
    "- Depth of the source center\n",
    "- Radius of the sphere\n",
    "- Overpressure vs shear modulus ratio\n",
    "\n",
    "*Note*: the depth is positive. The overpressure vs shear modulus is adimensional.\n",
    "\n",
    "### Penny-shaped crack\n",
    "**Model 2** The penny shaped crack (Fialko et al., 2001) is a disk with a radius and no vertical extension. Parameters:\n",
    "- East coordinate of the disk center\n",
    "- North coordinate of the disk center\n",
    "- Depth of the disk center\n",
    "- Radius of the disk\n",
    "- Overpressure vs shear modulus ratio\n",
    "\n",
    "*Note*: the depth is positive. The overpressure vs shear modulus is adimensional.\n",
    "\n",
    "### Spheroid\n",
    "**Model 3** The spheroid (Yang et al., 1988) is a finite-volume cavity with a constant overpressure on the boundary. It can be arbitrarily oriented in space Parameters:\n",
    "- East coordinate of the source center\n",
    "- North coordinate of the source center\n",
    "- Depth of the source center\n",
    "- Semi-major axis\n",
    "- Ratio of semi-minor vs semi-major axes\n",
    "- Overpressure vs shear modulus ratio (adimensional)\n",
    "- Strike angle\n",
    "- Dip angle\n",
    "\n",
    "*Note*: the depth is positive. The ratio is < 1. The overpressure vs shear modulus is adimensional. The strike is considered according to Yang et al. (1988), i.e., degrees counter clockwise from East. It means if the spheroid dips to East then strike = 0°, if it dips to North the strike = 90° etc. The dip angle is 0° = horizontal 90°= vertical.\n",
    "\n",
    "### Ellipsoid\n",
    "**Model 4** The ellipsoid (Davis, 1986) is a point source defined by its equivalent combination of dipoles and double forces. The P$_{ij}$ matrix must be defined, whose diagonal elements are the dipoles, while the off-diagonal are the double-forces according to catersian coordinates. The results must be interpreted following Davis (1986) tables to find the shape of the ellipsoid and its orientation. Parameters:\n",
    "- East coordinate of the source center\n",
    "- North coordinate of the source center\n",
    "- Depth of the source center\n",
    "- P$_{xx}$\n",
    "- P$_{yy}$\n",
    "- P$_{zz}$\n",
    "- P$_{xy}$\n",
    "- P$_{yz}$\n",
    "- P$_{zx}$\n",
    "\n",
    "*Note*: the depth is positive. According to Davis (1986), P$_{ij}$ matrix is expressed as Pascal multiplied by volume vs shear modulus.\n",
    "\n",
    "### Fault or Dike\n",
    "**Model 5** The fault model (Okada, 1985) is a rectangular plane undergoing shear slip and/or tensile opening/closing. Two configurations have been employed. The first uses strike-slip and dip-slip on the fault, while the other uses the total slip and the rake angle. Parameters:\n",
    "- East coordinate of the top left corner\n",
    "- North coordinate of the top left corner\n",
    "- Depth of the top\n",
    "- Length\n",
    "- Width\n",
    "- Strike angle\n",
    "- Dip angle\n",
    "- Strike-slip, or, conversely, total slip\n",
    "- Dip-slip, or, conversely, rake angle\n",
    "- Tensile movement\n",
    "\n",
    "*Note*: the depth is positive. The strike angle is the orientation of the plane seen from the top left corner and it is measured according to Okada (1985), from North conter-clockwise, i.e., strike = 0° if the fault plane is oriented North-South and dips to East, strike = 90° if the fault is East-West trening and dips to the South, etc. The tensile movement is > 0 for opening, < 0 for closure."
   ]
  },
  {
   "cell_type": "markdown",
   "metadata": {},
   "source": [
    "**Additional info**\n",
    "\n",
    "Initially, it must be defined\n",
    "- the elastic constants sch as shear modulus and Poisson ratio\n",
    "- the total number of sources\n",
    "- the list of sources identifiers"
   ]
  },
  {
   "cell_type": "code",
   "execution_count": 4,
   "metadata": {},
   "outputs": [],
   "source": [
    "import numpy as np\n",
    "\n",
    "# shear modulus (Pa)\n",
    "mu = 5e10\n",
    "# Poisson ratio\n",
    "ni = 0.25\n",
    "\n",
    "# number of sources\n",
    "num_sources = 1\n",
    "# initialize the array of sources identifier\n",
    "id_sources = np.zeros(num_sources)\n",
    "\n",
    "# define the list of source(s) by their identifier 0=Mogi 1=McTigue 2=Sill 3=Spheroid 4=Ellipsoid 5=Fault\n",
    "# comment or uncomment the lines needed, based on the number of sources employed\n",
    "id_sources[0] = 0\n",
    "#id_sources[1] = 1"
   ]
  },
  {
   "cell_type": "markdown",
   "metadata": {},
   "source": [
    "**Definition of the forward models**\n",
    "\n",
    "Define the sources with the range of search for each parameter. If a parameter is fixed, just choose minimum and maximum equal to the fixed value.\n",
    "Each forward model listed above is identified by a number here reported with parameters for copy and paste:\n",
    "- **Model 0** Mogi Point Source (Mogi, 1958)\n",
    "\n",
    "`x_mogi = (0, 0)`\\\n",
    "`y_mogi= (0,0)`\\\n",
    "`depth = (0,0)` \n",
    "\n",
    "- **Model 1** Mogi Finite Volume (Mc Tigue, 1987)\n",
    "- **Model 2** Penny-shaped crack (Fialko et al., 2001)\n",
    "- **Model 3** Spheroid (Yang et al., 1988)\n",
    "- **Model 4** Ellipsoid (Davis, 1986)\n",
    "- **Model 5** Fault or Dyke (Okada, 1985)\n",
    "For each chosen source it must be reported the list of the parameters with minimum and maximum (minimum $<=$ maximum)"
   ]
  },
  {
   "cell_type": "code",
   "execution_count": 12,
   "metadata": {},
   "outputs": [
    {
     "name": "stdout",
     "output_type": "stream",
     "text": [
      "[(422000, 432000), (4515000, 4525000), (2000, 6000), (1000000.0, 20000000.0)]\n"
     ]
    }
   ],
   "source": [
    "# code of the chosen forward model\n",
    "sorg_identifier = 0\n",
    "#parameters minimum and maximum (minimum <= maximum)\n",
    "param1 = (422000, 432000)\n",
    "param2 = (4515000,4525000)\n",
    "param3 = (2000,6000)\n",
    "param4 = (1e6, 2e7)\n",
    "bounds = [param1,param2,param3,param4]\n",
    "print(bounds)"
   ]
  },
  {
   "cell_type": "markdown",
   "metadata": {},
   "source": [
    "## VSM settings\n",
    "\n",
    "### Inversion algorithms\n",
    "There are two inversion tools included in VSM\n",
    "- **NA** is the **Neighbourhood Algorithm**, a global optimizer based on the Voronoi cells theory for the sampling (Sambridge, 1999). The parameters needed are:\n",
    "    - number of samples at each iteration `sampl1`\n",
    "    - number of re-samples from each iteration `sampl2`\n",
    "    - number of iterations `sampl3`\n",
    "- **BO** is the **Bayesian Optimization**, a global optimizer based on Bayesian inference and MCMC sampling. The parameters needed are:\n",
    "    - number of random walks `sampl1`\n",
    "    - number of steps for each random walk `sampl2`"
   ]
  },
  {
   "cell_type": "code",
   "execution_count": 13,
   "metadata": {},
   "outputs": [],
   "source": [
    "# optimizer choice NA = 0 BO = 1\n",
    "optimizer_choice = 0\n",
    "# accordingly the sampling parameters\n",
    "sampl1 = 1000\n",
    "sampl2 = 300\n",
    "sampl1 = 10"
   ]
  },
  {
   "cell_type": "markdown",
   "metadata": {},
   "source": [
    "### Plots\n",
    "It can be decided to have the plots done or not, specifically the statistics related to the 1D and 2D parameters distributions. Accordingly, also the number of burn-in (i.e., excluded) models can be defined, considering that at the beginning both the optimizers sample low probability models also. Define\n",
    "- plot `yes` or `no`\n",
    "- number of burn-in models"
   ]
  },
  {
   "cell_type": "code",
   "execution_count": 14,
   "metadata": {},
   "outputs": [],
   "source": [
    "# plot yes or not? Accepted 'yes' 'YES' 'y' 'Y'\n",
    "plotyn = 'y'\n",
    "num_skip = 1000"
   ]
  },
  {
   "cell_type": "markdown",
   "metadata": {},
   "source": [
    "### Final writing of the VSM input\n",
    "In this final step all the VSM settings are written in the file & location decided at the beginning, as plain text. Just execute this box!"
   ]
  },
  {
   "cell_type": "code",
   "execution_count": 18,
   "metadata": {},
   "outputs": [
    {
     "ename": "TypeError",
     "evalue": "'list' object cannot be interpreted as an integer",
     "output_type": "error",
     "traceback": [
      "\u001b[0;31m---------------------------------------------------------------------------\u001b[0m",
      "\u001b[0;31mTypeError\u001b[0m                                 Traceback (most recent call last)",
      "\u001b[0;32m<ipython-input-18-e165dd2bae14>\u001b[0m in \u001b[0;36m<module>\u001b[0;34m\u001b[0m\n\u001b[1;32m     13\u001b[0m         \u001b[0mf\u001b[0m\u001b[0;34m.\u001b[0m\u001b[0mwrite\u001b[0m\u001b[0;34m(\u001b[0m\u001b[0mstr\u001b[0m\u001b[0;34m(\u001b[0m\u001b[0mid_sources\u001b[0m\u001b[0;34m[\u001b[0m\u001b[0mi_sorg\u001b[0m\u001b[0;34m]\u001b[0m\u001b[0;34m)\u001b[0m\u001b[0;34m+\u001b[0m\u001b[0;34m' '\u001b[0m\u001b[0;34m+\u001b[0m\u001b[0mokada_mode\u001b[0m\u001b[0;34m[\u001b[0m\u001b[0mi_sorg\u001b[0m\u001b[0;34m]\u001b[0m\u001b[0;34m+\u001b[0m\u001b[0;34m'\\n'\u001b[0m\u001b[0;34m)\u001b[0m\u001b[0;34m\u001b[0m\u001b[0;34m\u001b[0m\u001b[0m\n\u001b[1;32m     14\u001b[0m \u001b[0;34m\u001b[0m\u001b[0m\n\u001b[0;32m---> 15\u001b[0;31m     \u001b[0;32mfor\u001b[0m \u001b[0mk\u001b[0m \u001b[0;32min\u001b[0m \u001b[0mrange\u001b[0m\u001b[0;34m(\u001b[0m\u001b[0mbounds\u001b[0m\u001b[0;34m)\u001b[0m\u001b[0;34m:\u001b[0m\u001b[0;34m\u001b[0m\u001b[0;34m\u001b[0m\u001b[0m\n\u001b[0m\u001b[1;32m     16\u001b[0m         \u001b[0mrow\u001b[0m \u001b[0;34m=\u001b[0m \u001b[0mstr\u001b[0m\u001b[0;34m(\u001b[0m\u001b[0mlist\u001b[0m\u001b[0;34m(\u001b[0m\u001b[0mbounds\u001b[0m\u001b[0;34m[\u001b[0m\u001b[0mkk\u001b[0m\u001b[0;34m]\u001b[0m\u001b[0;34m)\u001b[0m\u001b[0;34m[\u001b[0m\u001b[0;36m0\u001b[0m\u001b[0;34m]\u001b[0m\u001b[0;34m)\u001b[0m\u001b[0;34m+\u001b[0m\u001b[0;34m'\\t'\u001b[0m\u001b[0;34m+\u001b[0m\u001b[0mstr\u001b[0m\u001b[0;34m(\u001b[0m\u001b[0mlist\u001b[0m\u001b[0;34m(\u001b[0m\u001b[0mbounds\u001b[0m\u001b[0;34m[\u001b[0m\u001b[0mkk\u001b[0m\u001b[0;34m]\u001b[0m\u001b[0;34m)\u001b[0m\u001b[0;34m[\u001b[0m\u001b[0;36m1\u001b[0m\u001b[0;34m]\u001b[0m\u001b[0;34m)\u001b[0m\u001b[0;34m+\u001b[0m\u001b[0;34m'\\n'\u001b[0m\u001b[0;34m\u001b[0m\u001b[0;34m\u001b[0m\u001b[0m\n\u001b[1;32m     17\u001b[0m         \u001b[0mkk\u001b[0m \u001b[0;34m+=\u001b[0m\u001b[0;36m1\u001b[0m\u001b[0;34m\u001b[0m\u001b[0;34m\u001b[0m\u001b[0m\n",
      "\u001b[0;31mTypeError\u001b[0m: 'list' object cannot be interpreted as an integer"
     ]
    }
   ],
   "source": [
    "f = open(folder_inout+'/'+filename_in, \"w\")\n",
    "f.write(folder_inout+'\\n')    \n",
    "f.write(sar_file+'\\n'+gps_file+'\\n'+lev_file+'\\n'+edm_file+'\\n'+tlt_file+'\\n'+srn_file+'\\n')\n",
    "f.write(str(sar_weight)+'\\n'+str(gps_weight)+'\\n'+str(lev_weight)+'\\n'+str(edm_weight)+'\\n'+str(tlt_weight)+'\\n'+str(srn_weight)+'\\n')\n",
    "f.write(('%.2e\\n' % mu)+str(ni)+'\\n')\n",
    "f.write(str(num_sources)+'\\n')\n",
    "\n",
    "kk = 0\n",
    "for i_sorg in range(len(id_sources)):\n",
    "    if(id_sources[i_sorg]!= 5):\n",
    "        f.write(str(id_sources[i_sorg])+'\\n')\n",
    "    else:\n",
    "        f.write(str(id_sources[i_sorg])+' '+okada_mode[i_sorg]+'\\n')\n",
    "       \n",
    "    for k in range(bounds):\n",
    "        row = str(list(bounds[kk])[0])+'\\t'+str(list(bounds[kk])[1])+'\\n'\n",
    "        kk +=1            \n",
    "        f.write(row)\n",
    "\n",
    "f.write(str(optimizer_choice)+'\\n')\n",
    "f.write(str(sampl1)+'\\n')\n",
    "try:\n",
    "    f.write(str(sampl2)+' '+str(sampl3)+'\\n')\n",
    "except:\n",
    "    f.write(str(sampl2)+'\\n')\n",
    "f.write(plotyn+' '+str(num_skip)+'\\n')\n",
    "\n",
    "f.close()"
   ]
  },
  {
   "cell_type": "markdown",
   "metadata": {},
   "source": [
    "## And now?\n",
    "Now the VSM input is stored in the specified folder and ready to be used in a VSM run.\n",
    "VSM may be launched by\n",
    "- Jupyter Notebook, e.g.,  VSM_JN.ipynb\n",
    "- Python code, e.g., VSM_test.py\n",
    "- Graphical Unit Interface VSM_GUI.py"
   ]
  }
 ],
 "metadata": {
  "kernelspec": {
   "display_name": "Python 3",
   "language": "python",
   "name": "python3"
  },
  "language_info": {
   "codemirror_mode": {
    "name": "ipython",
    "version": 3
   },
   "file_extension": ".py",
   "mimetype": "text/x-python",
   "name": "python",
   "nbconvert_exporter": "python",
   "pygments_lexer": "ipython3",
   "version": "3.8.5"
  }
 },
 "nbformat": 4,
 "nbformat_minor": 4
}
